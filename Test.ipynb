{
 "cells": [
  {
   "cell_type": "code",
   "execution_count": 2,
   "metadata": {},
   "outputs": [],
   "source": [
    "from collections import Counter\n"
   ]
  },
  {
   "cell_type": "code",
   "execution_count": 4,
   "metadata": {},
   "outputs": [],
   "source": [
    "mylist=[1,1,1,1,2,2,2,2,2,3,3,3,3,3,3]"
   ]
  },
  {
   "cell_type": "code",
   "execution_count": 5,
   "metadata": {},
   "outputs": [
    {
     "data": {
      "text/plain": [
       "Counter({3: 6, 2: 5, 1: 4})"
      ]
     },
     "execution_count": 5,
     "metadata": {},
     "output_type": "execute_result"
    }
   ],
   "source": [
    "Counter(mylist)"
   ]
  },
  {
   "cell_type": "code",
   "execution_count": 8,
   "metadata": {},
   "outputs": [
    {
     "data": {
      "text/plain": [
       "Counter({'s': 11,\n",
       "         'k': 9,\n",
       "         'd': 9,\n",
       "         'l': 6,\n",
       "         'f': 4,\n",
       "         'n': 2,\n",
       "         'v': 2,\n",
       "         'j': 2,\n",
       "         ' ': 2,\n",
       "         'h': 1,\n",
       "         'a': 1,\n",
       "         'c': 1,\n",
       "         'o': 1,\n",
       "         'i': 1})"
      ]
     },
     "execution_count": 8,
     "metadata": {},
     "output_type": "execute_result"
    }
   ],
   "source": [
    "Counter('kshdklanlkcvkjsdklfsksl nskdlfkdsdvsdds skdlfsjfodis')"
   ]
  },
  {
   "cell_type": "code",
   "execution_count": 9,
   "metadata": {},
   "outputs": [
    {
     "data": {
      "text/plain": [
       "Counter({'the': 4,\n",
       "         'line': 3,\n",
       "         'eeee': 3,\n",
       "         'wat': 2,\n",
       "         'erase': 1,\n",
       "         'erase,': 1,\n",
       "         'omg': 1,\n",
       "         'hi': 1,\n",
       "         'what': 1})"
      ]
     },
     "execution_count": 9,
     "metadata": {},
     "output_type": "execute_result"
    }
   ],
   "source": [
    "sentence = \"erase the line the line the line the erase, omg hi wat what wat eeee eeee eeee\"\n",
    "Counter(sentence.split())"
   ]
  }
 ],
 "metadata": {
  "kernelspec": {
   "display_name": "Python 3",
   "language": "python",
   "name": "python3"
  },
  "language_info": {
   "codemirror_mode": {
    "name": "ipython",
    "version": 3
   },
   "file_extension": ".py",
   "mimetype": "text/x-python",
   "name": "python",
   "nbconvert_exporter": "python",
   "pygments_lexer": "ipython3",
   "version": "3.9.13"
  }
 },
 "nbformat": 4,
 "nbformat_minor": 2
}
